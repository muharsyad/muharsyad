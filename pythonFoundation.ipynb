{
  "nbformat": 4,
  "nbformat_minor": 0,
  "metadata": {
    "colab": {
      "provenance": [],
      "authorship_tag": "ABX9TyNxVKbdUzA2cp3/Zuh0gMwh",
      "include_colab_link": true
    },
    "kernelspec": {
      "name": "python3",
      "display_name": "Python 3"
    },
    "language_info": {
      "name": "python"
    }
  },
  "cells": [
    {
      "cell_type": "markdown",
      "metadata": {
        "id": "view-in-github",
        "colab_type": "text"
      },
      "source": [
        "<a href=\"https://colab.research.google.com/github/muharsyad/muharsyad/blob/main/pythonFoundation.ipynb\" target=\"_parent\"><img src=\"https://colab.research.google.com/assets/colab-badge.svg\" alt=\"Open In Colab\"/></a>"
      ]
    },
    {
      "cell_type": "markdown",
      "source": [
        "# Python Foundation : Basic understanding about Python"
      ],
      "metadata": {
        "id": "gyeNCMaMC5kk"
      }
    },
    {
      "cell_type": "markdown",
      "source": [
        "## Pengenalan Python"
      ],
      "metadata": {
        "id": "0bn8tBKiDDIi"
      }
    },
    {
      "cell_type": "markdown",
      "source": [
        "**Apa itu Python**\n",
        "\n",
        "Python merupakan bahasa pemrograman tingkat tinggi (mudah dipahami oleh manusia) yang mudah ditafsirkan dan berorientasi pada objek dengan semantik dinamis (*dynamic semantic*)\n",
        "\n",
        "**Perbandingan \"hello world\" dalam 5 bahasa pemrograman**\n",
        "\n",
        "1. Python\n",
        "\n",
        "  `print(\"hello word\")`"
      ],
      "metadata": {
        "id": "WwBhnNvdDGMo"
      }
    },
    {
      "cell_type": "markdown",
      "source": [
        "## Basic Python"
      ],
      "metadata": {
        "id": "cO7ijRFFEyRF"
      }
    },
    {
      "cell_type": "markdown",
      "source": [
        "### Aturan penulisan pada python"
      ],
      "metadata": {
        "id": "tvPZbBhDFHch"
      }
    },
    {
      "cell_type": "markdown",
      "source": [
        "1. blok kode python tidak diakhir dengan titik koma (`;`)\n",
        "2. dalam python, pernyataan dinyatakan dalam satu baris\n",
        "3. garis miring terbalik *backslash* (`\\`) dapat digunakan untuk memisahkan pernyataan yang menjalankan lebih dari satu baris\n",
        "4. tanda identasi (spasi) sebagai penanda blok\n",
        "5. kutipan (`', \", \"\"\"`) sebagai penanda string\n",
        "6. case-sensitive huruf besar dan kecil memiliki nilai yang berbeda\n",
        "7. penulisan komentar diawali dengan tanda hash (`#`)"
      ],
      "metadata": {
        "id": "kb6CMBnoGD2l"
      }
    },
    {
      "cell_type": "code",
      "source": [
        "# @title Default title text\n",
        "print(\"hello world\")\n",
        "print('hello startup campus')"
      ],
      "metadata": {
        "colab": {
          "base_uri": "https://localhost:8080/",
          "height": 0
        },
        "id": "nkER_jNuGTbG",
        "outputId": "df58298a-b90a-40f3-cbb6-308ca66526ad"
      },
      "execution_count": 4,
      "outputs": [
        {
          "output_type": "stream",
          "name": "stdout",
          "text": [
            "hello world\n",
            "hello startup campus\n"
          ]
        }
      ]
    },
    {
      "cell_type": "code",
      "source": [
        "# @title\n",
        "nama = \"startup campus\"\n",
        "print(nama)"
      ],
      "metadata": {
        "colab": {
          "base_uri": "https://localhost:8080/",
          "height": 0
        },
        "cellView": "form",
        "id": "gW-YuqIPHuTY",
        "outputId": "b8a6e249-2448-406f-c1ce-a96c57d1f5ff"
      },
      "execution_count": 5,
      "outputs": [
        {
          "output_type": "stream",
          "name": "stdout",
          "text": [
            "startup campus\n"
          ]
        }
      ]
    },
    {
      "cell_type": "markdown",
      "source": [
        "### Variable python"
      ],
      "metadata": {
        "id": "Awqbnk4pH4BQ"
      }
    },
    {
      "cell_type": "markdown",
      "source": [
        "variable adalah suatu 'wadah' atau tempat yang digunakan dalam sebuah bahasa pemrograman untuk menyimpan sebuah nilai / value data.\n",
        "\n"
      ],
      "metadata": {
        "id": "a530NSmWH6lg"
      }
    },
    {
      "cell_type": "code",
      "source": [
        "# @title\n",
        "name = 'John'\n",
        "print(name)"
      ],
      "metadata": {
        "colab": {
          "base_uri": "https://localhost:8080/",
          "height": 0
        },
        "cellView": "form",
        "id": "hQ9yTnx9IeCg",
        "outputId": "bf3ae1c1-196f-4ec1-84a3-69fec1f627b1"
      },
      "execution_count": 6,
      "outputs": [
        {
          "output_type": "stream",
          "name": "stdout",
          "text": [
            "John\n"
          ]
        }
      ]
    },
    {
      "cell_type": "markdown",
      "source": [
        "### Tipa Data Python"
      ],
      "metadata": {
        "id": "a1i2voagIhta"
      }
    },
    {
      "cell_type": "markdown",
      "source": [
        "tipe data merupakan jenis data yang disimpan dalam variabel.\n",
        "\n",
        "|Tipe Data|Contoh|Penjelasan|\n",
        "|---|---|---|\n",
        "|String|\"Ayo belajar python\"|menyatakan kerakter / kalimat bisa berupa huruf angka, dll (diapit tanda `\"` atau `'` )|\n",
        "|Integer|25|menyatakan bilangan bulat|\n",
        "|Float|3.14|menyatakan bilangan yang mempunya koma|\n",
        "|Complex|1+5j|menyatakan pasangan angka real dan imajiner|\n",
        "|list|[1, 2, 3]|data untaian yang menyimpan berbagai tipa data dan isinya bisa diubah-ubah|\n",
        "|tuple|(1, 2, 3)|data untaian yang menyimpan berbagai tipe data tapi isinya tidak bisa diubah|\n",
        "|range|range(10)|berisikan rentang nilai sebuah integer. apabila ditampilkaa, maka seluruh nilai rentang akan ditampilkan sebagai tipe data list|\n",
        "|dictionary|{\"key\":value}| tipe data yang menyimpan data sebagai sebuah pasangan key, value. Tiap key dan value dalam dictionary bersifat runut, bisa dirubah dan unik.|\n",
        "|set|{1, 2}|tipe data yang menyimpan lebih dari 1 elemen dalam sebuah variable elemen di dalam set tidak bisa diubah, namun bisa dipanggil dengan index|\n",
        "|boolean|True, False|menyatakn benar atau salah|\n",
        "|NoneType|None|sebuah tipa data yang mengartikan tidak ada data di dalamnya|\n"
      ],
      "metadata": {
        "id": "BV3b5gpcImCB"
      }
    },
    {
      "cell_type": "code",
      "source": [
        "string = 'hello world'    #string\n",
        "_int = 5                  #interger\n",
        "_flot = 0.5               #float\n",
        "_complex = 3j             #complex\n",
        "_list = [1, 2, 3]         #list\n",
        "_tuple = (1, 2, 3)        # tuple\n",
        "_range = range(10)        # range\n",
        "_dict = {'satu': 1, 'dua': 2}   # dictionary\n",
        "_set = {1, 2, 3}          # set\n",
        "_boolean = True           # boolean\n",
        "_noneType = None          # nonetype"
      ],
      "metadata": {
        "id": "7dtefEZwIzRT"
      },
      "execution_count": 7,
      "outputs": []
    },
    {
      "cell_type": "markdown",
      "source": [
        "### module dan package python"
      ],
      "metadata": {
        "id": "dpJZjL-SMYeO"
      }
    },
    {
      "cell_type": "markdown",
      "source": [
        "module adalah sebuah file python dengan *extension* **.py**\n",
        "\n",
        "install di google colab : `!pip install <package_name>`\n",
        "\n",
        "install di IDE lain : `pip install <package_name>`"
      ],
      "metadata": {
        "id": "zkc4sZDSMcE9"
      }
    },
    {
      "cell_type": "markdown",
      "source": [
        "### Arithmetics Operator Python"
      ],
      "metadata": {
        "id": "tpm5p8LeNDT1"
      }
    },
    {
      "cell_type": "markdown",
      "source": [
        "|operator|contoh|penjelasan|\n",
        "|---|---|---|\n",
        "|penjumlahan `+`|`1+2`|menjumlahkan nilai dari masing-masing operan atau bilangan|\n",
        "|pengurangan `-`|`4-3`|mengurangi nilai operan di sebelah kiri menggunakan operan di sebelah kanan|\n",
        "|perkalian `*`|`2*3`|mengalikan operan atau bilangan|\n",
        "|pembagian `/`|`4/2`|untuk membagi operan di sebelah kiri menggunakan operan di sebalah kanan|\n",
        "|sisa bagi `%`|`11%2`|mendapatkan sisa pembagian dari operan di sebalah kiri operator ketika dibagi oleh operan di sebalah kanan|\n",
        "|pangkat `**`|`4**2`|memangkatkan operan di sebelah kiri operator dengan operator di sebelah kanan operator|"
      ],
      "metadata": {
        "id": "7EX_6s8iNIEZ"
      }
    },
    {
      "cell_type": "markdown",
      "source": [
        "## Programming Control Flow"
      ],
      "metadata": {
        "id": "wKXe12BQE0nr"
      }
    },
    {
      "cell_type": "markdown",
      "source": [
        "**Control flow** adalah urutan dimana operasi tertentu dijalankan.\n",
        "\n",
        "**flow chart** merupakan penggambaran proses dari *control flow* yang telah dibuat."
      ],
      "metadata": {
        "id": "JU6pXU9mOYVg"
      }
    },
    {
      "cell_type": "code",
      "source": [
        "a =5\n",
        "b = 100\n",
        "if b > a:\n",
        "  print('b lebih dari a')"
      ],
      "metadata": {
        "colab": {
          "base_uri": "https://localhost:8080/",
          "height": 0
        },
        "id": "TOy_NvsZKjp4",
        "outputId": "344e93ac-0d11-4535-c3c0-73dd19277231"
      },
      "execution_count": 9,
      "outputs": [
        {
          "output_type": "stream",
          "name": "stdout",
          "text": [
            "b lebih dari a\n"
          ]
        }
      ]
    },
    {
      "cell_type": "markdown",
      "source": [
        "### python programming 1: Condition"
      ],
      "metadata": {
        "id": "IXRaDaLxO-G9"
      }
    },
    {
      "cell_type": "markdown",
      "source": [
        "percabangan dalam pemrograman python adalah proses penentuan keputusan atau disebut dengan *condtitional statement*\n",
        "\n",
        "beberapa macam kondisional:\n",
        "* `if` : digunakan untuk mengeksekusi kode jika kondisi bernilai benar\n",
        "* `elif` : jika"
      ],
      "metadata": {
        "id": "lV53zlb4PB7D"
      }
    },
    {
      "cell_type": "code",
      "source": [
        "a =5\n",
        "b = 100\n",
        "if b > a:\n",
        "  print('b lebih dari a')"
      ],
      "metadata": {
        "colab": {
          "base_uri": "https://localhost:8080/",
          "height": 0
        },
        "id": "woRATJd_O90_",
        "outputId": "ed69e852-f76a-4a9b-9771-db99911340c7"
      },
      "execution_count": 11,
      "outputs": [
        {
          "output_type": "stream",
          "name": "stdout",
          "text": [
            "b lebih dari a\n"
          ]
        }
      ]
    },
    {
      "cell_type": "code",
      "source": [
        "a = 90\n",
        "b = 50\n",
        "if b > a:\n",
        "  print('b lebih dari a')\n",
        "elif a == b:\n",
        "  print('a sama dengan b')\n",
        "else:\n",
        "  print('a lebih dari b')"
      ],
      "metadata": {
        "colab": {
          "base_uri": "https://localhost:8080/",
          "height": 0
        },
        "id": "-enAeh3mKjne",
        "outputId": "00ed97b1-0bd6-4216-8c2c-016a6cfc3504"
      },
      "execution_count": 12,
      "outputs": [
        {
          "output_type": "stream",
          "name": "stdout",
          "text": [
            "a lebih dari b\n"
          ]
        }
      ]
    },
    {
      "cell_type": "code",
      "source": [
        "a = 90\n",
        "b = 50\n",
        "if b > a:\n",
        "  print('b lebih dari a')\n",
        "  if b%2==0:\n",
        "    print('dan b adalah bilangan genap')\n",
        "  else:\n",
        "    print(' dan b adalah bilangan ganjil')\n",
        "elif a == b:\n",
        "  print('a sama dengan b')\n",
        "else:\n",
        "  print('a lebih dari b')"
      ],
      "metadata": {
        "colab": {
          "base_uri": "https://localhost:8080/",
          "height": 0
        },
        "id": "vSLgiTqBP4Do",
        "outputId": "6a70abb9-52a9-4e0b-81a5-88ffa00eb88c"
      },
      "execution_count": 13,
      "outputs": [
        {
          "output_type": "stream",
          "name": "stdout",
          "text": [
            "a lebih dari b\n"
          ]
        }
      ]
    },
    {
      "cell_type": "markdown",
      "source": [
        "### Python Programming 2 : Loop"
      ],
      "metadata": {
        "id": "k4HE7re7QS-V"
      }
    },
    {
      "cell_type": "markdown",
      "source": [
        "python memiliki dua macam perintah loop yang umum digunakan:\n",
        "* `while` loop\n",
        "  perintah `while` digunakan untuk mengulang sintaks python atau melakukan iterasi, ketika pengulangan akan terus terjadi sampai suatu syarat terpenuhi.\n",
        "* `for` loop:\n",
        "  perintah `for` digunakan untuk kasus ***definite iteration***, yaitu sebuah pengulangan yang dilakukan ketika jumlah pengulangan sudah ditentukan terlebih dahulu."
      ],
      "metadata": {
        "id": "LOmq8wxbQguw"
      }
    },
    {
      "cell_type": "code",
      "source": [
        "i = 1\n",
        "while i < 6:\n",
        "  print(i)\n",
        "  i += 1"
      ],
      "metadata": {
        "colab": {
          "base_uri": "https://localhost:8080/",
          "height": 0
        },
        "id": "FIFK57uPR1HS",
        "outputId": "bfdbdc5a-e8f4-4a14-87ea-17e4730c0381"
      },
      "execution_count": 14,
      "outputs": [
        {
          "output_type": "stream",
          "name": "stdout",
          "text": [
            "1\n",
            "2\n",
            "3\n",
            "4\n",
            "5\n"
          ]
        }
      ]
    },
    {
      "cell_type": "code",
      "source": [
        "for x in \"banana\":\n",
        "  print(x)"
      ],
      "metadata": {
        "colab": {
          "base_uri": "https://localhost:8080/",
          "height": 0
        },
        "id": "s3any5J8R7hC",
        "outputId": "532aef16-0933-4636-d450-e6bb42aebbf9"
      },
      "execution_count": 15,
      "outputs": [
        {
          "output_type": "stream",
          "name": "stdout",
          "text": [
            "b\n",
            "a\n",
            "n\n",
            "a\n",
            "n\n",
            "a\n"
          ]
        }
      ]
    },
    {
      "cell_type": "code",
      "source": [
        "for x in range(1,6):\n",
        "  print(x)"
      ],
      "metadata": {
        "colab": {
          "base_uri": "https://localhost:8080/",
          "height": 0
        },
        "id": "kEdzOcRsR_9G",
        "outputId": "68ea82cf-2ab6-4e65-c41b-9f3a05ffa77f"
      },
      "execution_count": 16,
      "outputs": [
        {
          "output_type": "stream",
          "name": "stdout",
          "text": [
            "1\n",
            "2\n",
            "3\n",
            "4\n",
            "5\n"
          ]
        }
      ]
    },
    {
      "cell_type": "markdown",
      "source": [
        "keyword `break`, `continue`, `pass` dalam loop\n",
        "\n",
        "* `break`: berfungi untuk memberhentikan proses loop\n",
        "* `continue`: berfungsi untuk memberhentikan proses saat ini, lalu melanjutkan kembali di loop selanjutnya\n",
        "* `pass`: untuk menghindari kesalah ketika fungsi loop kosong, karena fungsi loop tidak boleh kosong"
      ],
      "metadata": {
        "id": "vCBjkE2sSI1t"
      }
    },
    {
      "cell_type": "code",
      "source": [
        "for x in range(1,6):\n",
        "  if x == 3:\n",
        "    break\n",
        "  else:\n",
        "    print(x)"
      ],
      "metadata": {
        "colab": {
          "base_uri": "https://localhost:8080/",
          "height": 0
        },
        "id": "3s0_pMuiSpMb",
        "outputId": "3ad21a54-3b5d-44e2-c963-efb37fd78da7"
      },
      "execution_count": 17,
      "outputs": [
        {
          "output_type": "stream",
          "name": "stdout",
          "text": [
            "1\n",
            "2\n"
          ]
        }
      ]
    },
    {
      "cell_type": "code",
      "source": [
        "for x in range(1,6):\n",
        "  if x==3:\n",
        "    continue\n",
        "  else:\n",
        "    print(x)"
      ],
      "metadata": {
        "colab": {
          "base_uri": "https://localhost:8080/",
          "height": 0
        },
        "id": "GX5YvghTSxnj",
        "outputId": "79329a01-c0cf-457a-f298-e155f2e70106"
      },
      "execution_count": 18,
      "outputs": [
        {
          "output_type": "stream",
          "name": "stdout",
          "text": [
            "1\n",
            "2\n",
            "4\n",
            "5\n"
          ]
        }
      ]
    },
    {
      "cell_type": "code",
      "source": [
        "for x in range(1,6):\n",
        "  pass"
      ],
      "metadata": {
        "id": "E2STMoCcS55d"
      },
      "execution_count": 19,
      "outputs": []
    },
    {
      "cell_type": "markdown",
      "source": [
        "**Nested loop**\n",
        "\n",
        "nested loop dapat diartikan sebagai loop di dalam loop"
      ],
      "metadata": {
        "id": "iP_DdFhwTBke"
      }
    },
    {
      "cell_type": "code",
      "source": [
        "for x in \"banana\":\n",
        "  for y in range(6):\n",
        "    print(x, end=\" \")\n",
        "  print(\"\")\n",
        "print(\"end of code\")"
      ],
      "metadata": {
        "colab": {
          "base_uri": "https://localhost:8080/",
          "height": 0
        },
        "id": "Ls_oUvt5TJk0",
        "outputId": "b0d3f6f0-6bcd-499c-f2da-0aaf8c65c9f8"
      },
      "execution_count": 20,
      "outputs": [
        {
          "output_type": "stream",
          "name": "stdout",
          "text": [
            "b b b b b b \n",
            "a a a a a a \n",
            "n n n n n n \n",
            "a a a a a a \n",
            "n n n n n n \n",
            "a a a a a a \n",
            "end of code\n"
          ]
        }
      ]
    },
    {
      "cell_type": "markdown",
      "source": [
        "## Membuat Fungsi"
      ],
      "metadata": {
        "id": "3wYJRNTgE6la"
      }
    },
    {
      "cell_type": "markdown",
      "source": [
        "### Function pada python"
      ],
      "metadata": {
        "id": "FwPPs6f9VVCB"
      }
    },
    {
      "cell_type": "markdown",
      "source": [
        "### Struktur Function dalam Python"
      ],
      "metadata": {
        "id": "3kA4j3hqVj-p"
      }
    },
    {
      "cell_type": "markdown",
      "source": [
        "```\n",
        "def function_name(variable):\n",
        "  proses dan intruksi program\n",
        "\n",
        "  return ouput\n",
        "```\n",
        "\n",
        "* `def`: digunakan untuk mendefinisikan sebuah function. sebuah function akan selalu diawali dengan kata `def`\n",
        "* function_name: nama function ini yang nantinya akan dipanggil untuk meakili seluruh sintaks yang ada didalamnya sebagai sebuha fungsi utuh\n",
        "* variable: variabel input yang bisa diberikan kepada fungsi\n",
        "* `return`: digunakan untuk mengembalikan variable sebagai sebuah output.\n"
      ],
      "metadata": {
        "id": "dFhPFPleVoF-"
      }
    },
    {
      "cell_type": "code",
      "source": [
        "a = 10\n",
        "b = 15\n",
        "\n",
        "def penjumlahan(a,b):\n",
        "  return (a+b)\n",
        "\n",
        "c = penjumlahan(a,b)\n",
        "\n",
        "print(c)"
      ],
      "metadata": {
        "colab": {
          "base_uri": "https://localhost:8080/"
        },
        "id": "BcjRGNGYZL_X",
        "outputId": "f6a91d0a-78a0-420f-f815-775e31e1d65b"
      },
      "execution_count": 21,
      "outputs": [
        {
          "output_type": "stream",
          "name": "stdout",
          "text": [
            "25\n"
          ]
        }
      ]
    },
    {
      "cell_type": "markdown",
      "source": [
        "### input pada function"
      ],
      "metadata": {
        "id": "bhp2mUvkZkAO"
      }
    },
    {
      "cell_type": "markdown",
      "source": [
        "beberapa jenis input pada function:\n",
        "1. **positional argument**\n",
        "  function akan membaca inputan ini sesuai dengan posisi peletakan input\n",
        "2. **keyword argument**\n",
        "  jenis input ini menggunakan variable sebagai inputnya.\n",
        "3. **default argument**\n",
        "  jenis argumen input ini merupakan penggabungan dari **positional argument** dan **keyword argument**\n",
        "4. **variable-length argument**\n",
        "  jenis pemberian argumen input ini menggunakan suatu operator `*args` dan `**kwargs` di dalam inputnya. operator `*args` berarti seluruh **position argument**. operator `**kwargs` berarti seluruh **keyword argument**"
      ],
      "metadata": {
        "id": "tbpBTIFxZmxN"
      }
    },
    {
      "cell_type": "code",
      "source": [
        "# positional argument\n",
        "\n",
        "def penjumlahan(a,b):\n",
        "  print('ini merupakan nilai b : ', b)\n",
        "  print('ini merupakan nilai a : ', a)\n",
        "  c = a + b\n",
        "  return c\n",
        "\n",
        "penjumlahan(5,6)"
      ],
      "metadata": {
        "colab": {
          "base_uri": "https://localhost:8080/"
        },
        "id": "2YE_yyZJa3AC",
        "outputId": "ac6d037c-753b-4c91-dde5-fb635350d743"
      },
      "execution_count": 23,
      "outputs": [
        {
          "output_type": "stream",
          "name": "stdout",
          "text": [
            "ini merupakan nilai b :  6\n",
            "ini merupakan nilai a :  5\n"
          ]
        },
        {
          "output_type": "execute_result",
          "data": {
            "text/plain": [
              "11"
            ]
          },
          "metadata": {},
          "execution_count": 23
        }
      ]
    },
    {
      "cell_type": "code",
      "source": [
        "# keyword argument\n",
        "\n",
        "def penjumlahan(a,b):\n",
        "  print('ini merupakan nilai b : ', b)\n",
        "  print('ini merupakan nilai a : ', a)\n",
        "  c = a + b\n",
        "  return c\n",
        "\n",
        "penjumlahan(b=6, a=7)"
      ],
      "metadata": {
        "colab": {
          "base_uri": "https://localhost:8080/"
        },
        "id": "GQHXMXAmbImD",
        "outputId": "3bf2d3ca-a70e-4b33-88fa-0a672f7cd51e"
      },
      "execution_count": 24,
      "outputs": [
        {
          "output_type": "stream",
          "name": "stdout",
          "text": [
            "ini merupakan nilai b :  6\n",
            "ini merupakan nilai a :  7\n"
          ]
        },
        {
          "output_type": "execute_result",
          "data": {
            "text/plain": [
              "13"
            ]
          },
          "metadata": {},
          "execution_count": 24
        }
      ]
    },
    {
      "cell_type": "code",
      "source": [
        "# default argument\n",
        "\n",
        "def penjumlahan(a,b=8):\n",
        "  print('ini merupakan nilai b : ', b)\n",
        "  print('ini merupakan nilai a : ', a)\n",
        "  c = a + b\n",
        "  return print(c)\n",
        "\n",
        "penjumlahan(a = 11)\n",
        "print('-------------------------')\n",
        "penjumlahan(9, b=21)"
      ],
      "metadata": {
        "colab": {
          "base_uri": "https://localhost:8080/"
        },
        "id": "G2MdjOaMbRBZ",
        "outputId": "7caebc0b-f12a-4b2d-8915-7578ee403829"
      },
      "execution_count": 27,
      "outputs": [
        {
          "output_type": "stream",
          "name": "stdout",
          "text": [
            "ini merupakan nilai b :  8\n",
            "ini merupakan nilai a :  11\n",
            "19\n",
            "-------------------------\n",
            "ini merupakan nilai b :  21\n",
            "ini merupakan nilai a :  9\n",
            "30\n"
          ]
        }
      ]
    },
    {
      "cell_type": "code",
      "source": [
        "# variable-length argument\n",
        "\n",
        "def penjumlahan(*args):\n",
        "  return print(sum(args))\n",
        "\n",
        "def pengurangan(*args):\n",
        "  start = args[0]\n",
        "  for x in args[1:]:\n",
        "    start -= x\n",
        "  return print(start)\n",
        "\n",
        "penjumlahan(1, 4, 2, 6, 4)\n",
        "print('------------')\n",
        "pengurangan(100, 31, 49)"
      ],
      "metadata": {
        "colab": {
          "base_uri": "https://localhost:8080/"
        },
        "id": "eV7p5JbebmhD",
        "outputId": "01fd77c0-eeeb-4b2d-b60a-668cb9719e13"
      },
      "execution_count": 29,
      "outputs": [
        {
          "output_type": "stream",
          "name": "stdout",
          "text": [
            "17\n",
            "------------\n",
            "20\n"
          ]
        }
      ]
    },
    {
      "cell_type": "code",
      "source": [
        "def biodata(**kwargs):\n",
        "  for key, value in kwargs.items():\n",
        "    print(\"{} is {}\".format(key, value))\n",
        "\n",
        "biodata(ID='ABC0001', firsname='Muhammad', lastname='Arsyad', email='muharsyad227@gmail.com')"
      ],
      "metadata": {
        "colab": {
          "base_uri": "https://localhost:8080/"
        },
        "id": "6WYuHp85cJcy",
        "outputId": "4f6fec0e-fe61-4f4c-aa1e-98b9ebc897b0"
      },
      "execution_count": 30,
      "outputs": [
        {
          "output_type": "stream",
          "name": "stdout",
          "text": [
            "ID is ABC0001\n",
            "firsname is Muhammad\n",
            "lastname is Arsyad\n",
            "email is muharsyad227@gmail.com\n"
          ]
        }
      ]
    },
    {
      "cell_type": "markdown",
      "source": [
        "### tipe variable"
      ],
      "metadata": {
        "id": "n_FpMJLIa2Y-"
      }
    },
    {
      "cell_type": "markdown",
      "source": [
        "## Python Library"
      ],
      "metadata": {
        "id": "IYF3zZMfE8n0"
      }
    },
    {
      "cell_type": "code",
      "execution_count": null,
      "metadata": {
        "id": "nxmKYp-EC1DA"
      },
      "outputs": [],
      "source": []
    }
  ]
}