{
  "nbformat": 4,
  "nbformat_minor": 0,
  "metadata": {
    "colab": {
      "provenance": [],
      "mount_file_id": "1PG1ij5gzomFmlrZqVFP1c-mEe2CvJYn8",
      "authorship_tag": "ABX9TyNZFsZMb7BarRZjLUd4zExA",
      "include_colab_link": true
    },
    "kernelspec": {
      "name": "python3",
      "display_name": "Python 3"
    },
    "language_info": {
      "name": "python"
    }
  },
  "cells": [
    {
      "cell_type": "markdown",
      "metadata": {
        "id": "view-in-github",
        "colab_type": "text"
      },
      "source": [
        "<a href=\"https://colab.research.google.com/github/muharsyad/muharsyad/blob/main/Untitled0.ipynb\" target=\"_parent\"><img src=\"https://colab.research.google.com/assets/colab-badge.svg\" alt=\"Open In Colab\"/></a>"
      ]
    },
    {
      "cell_type": "markdown",
      "source": [
        "# Live Session 2.1 : Introduction to Python"
      ],
      "metadata": {
        "id": "iHkkxe6z3B0I"
      }
    },
    {
      "cell_type": "code",
      "execution_count": 2,
      "metadata": {
        "colab": {
          "base_uri": "https://localhost:8080/"
        },
        "id": "fwSWKMnL0ByQ",
        "outputId": "d4b5fcc9-c252-4d0d-c991-89d0dd997e1e"
      },
      "outputs": [
        {
          "output_type": "stream",
          "name": "stdout",
          "text": [
            "hello world\n",
            "Muhammad Arsyad\n"
          ]
        }
      ],
      "source": [
        "variable_name = \"Muhammad Arsyad\" # @param {type:\"string\"}\n",
        "\n",
        "print('hello world')\n",
        "print(variable_name)"
      ]
    },
    {
      "cell_type": "markdown",
      "source": [
        "# New Section"
      ],
      "metadata": {
        "id": "-Huvrzu-6Vq9"
      }
    },
    {
      "cell_type": "code",
      "source": [],
      "metadata": {
        "id": "mzDryhJM0ePE"
      },
      "execution_count": null,
      "outputs": []
    }
  ]
}